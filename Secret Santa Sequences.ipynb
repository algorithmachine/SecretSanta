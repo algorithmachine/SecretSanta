{
 "cells": [
  {
   "cell_type": "code",
   "execution_count": 30,
   "id": "9d8c7141",
   "metadata": {},
   "outputs": [],
   "source": [
    "import itertools"
   ]
  },
  {
   "cell_type": "code",
   "execution_count": 58,
   "id": "a21bbe8c",
   "metadata": {},
   "outputs": [],
   "source": [
    "n = 7\n",
    "people = [(i,'A') for i in range(n)] + [(i,'B') for i in range(n)]"
   ]
  },
  {
   "cell_type": "code",
   "execution_count": 59,
   "id": "0368b187",
   "metadata": {},
   "outputs": [
    {
     "name": "stdout",
     "output_type": "stream",
     "text": [
      "n =  7  count1 =  32071101049  count2 =  19452141696  count3 =  6362490816  count4 =  3403153920\n"
     ]
    }
   ],
   "source": [
    "count1 = 0\n",
    "count2 = 0\n",
    "count3 = 0\n",
    "count4 = 0\n",
    "\n",
    "for perm in itertools.permutations(people):\n",
    "        D = { people[i] : perm[i] for i in range(len(people))}\n",
    "        keep = True\n",
    "        \n",
    "        \"\"\" Rule # 1 derangement \"\"\"\n",
    "        for person in people:\n",
    "            if D[person] == person:\n",
    "                keep = False\n",
    "                break\n",
    "        if keep: count1 += 1\n",
    "        \n",
    "        \"\"\" Rule #2  no 2-cycles \"\"\"\n",
    "        if keep:\n",
    "            for person in people:\n",
    "                if D[D[person]] == person:\n",
    "                    keep = False\n",
    "                    break\n",
    "        if keep: count2 += 1            \n",
    "                    \n",
    "        \"\"\" Rule #3 no spouses \"\"\"\n",
    "        if keep:\n",
    "            for person in people:\n",
    "                if person[0] == D[person][0]: #condition 3 + no person has themself \n",
    "                    keep = False\n",
    "                    break\n",
    "        if keep: count3 += 1\n",
    "            \n",
    "            \n",
    "        \"\"\" Rule #4 couples don't get couples\"\"\"\n",
    "        if keep:\n",
    "            for num in range(n):\n",
    "                if  D[num, 'A'][0] == D[num, 'B'][0]:  #condition 2 \n",
    "                    keep = False\n",
    "        if keep:\n",
    "            count4 += 1 \n",
    "            \n",
    "print('n = ', str(n), ' count1 = ', str(count1), ' count2 = ', str(count2), ' count3 = ', str(count3), ' count4 = ', str(count4) )"
   ]
  },
  {
   "cell_type": "code",
   "execution_count": 54,
   "id": "68ee3eae",
   "metadata": {},
   "outputs": [],
   "source": [
    "\"\"\" THROW THE ABOVE CODE INTO A FUNCTION TO TEST TIMING\"\"\"\n",
    "\n",
    "def check_perm(perm, people):\n",
    "        count1 = 0\n",
    "        count2 = 0\n",
    "        count3 = 0\n",
    "        count4 = 0\n",
    "\n",
    "        D = { people[i] : perm[i] for i in range(len(people))}\n",
    "        \n",
    "        keep = True\n",
    "        \n",
    "        \"\"\" Rule # 1 derangement \"\"\"\n",
    "        for person in people:\n",
    "            if D[person] == person:\n",
    "                keep = False\n",
    "                break\n",
    "        if keep: count1 += 1\n",
    "        \n",
    "        \"\"\" Rule #2  no 2-cycles \"\"\"\n",
    "        if keep:\n",
    "            for person in people:\n",
    "                if D[D[person]] == person:\n",
    "                    keep = False\n",
    "                    break\n",
    "        if keep: count2 += 1            \n",
    "                    \n",
    "        \"\"\" Rule #3 no spouses \"\"\"\n",
    "        if keep:\n",
    "            for person in people:\n",
    "                if person[0] == D[person][0]: #condition 3 + no person has themself \n",
    "                    keep = False\n",
    "                    break\n",
    "        if keep: count3 += 1\n",
    "            \n",
    "            \n",
    "        \"\"\" Rule #4 couples don't get couples\"\"\"\n",
    "        if keep:\n",
    "            for num in range(n):\n",
    "                if  D[num, 'A'][0] == D[num, 'B'][0]:  #condition 2 \n",
    "                    keep = False\n",
    "        if keep:\n",
    "            count4 += 1 "
   ]
  },
  {
   "cell_type": "code",
   "execution_count": 55,
   "id": "30a44aa1",
   "metadata": {},
   "outputs": [],
   "source": [
    "n = 7\n",
    "peeps = [(i,'A') for i in range(n)] + [(i,'B') for i in range(n)] \n",
    "per = ((0, 'A'), (1, 'A'), (2, 'A'), (3, 'A'), (4, 'A'), (5, 'A'), (6, 'A'), (0, 'B'), (1, 'B'), (2, 'B'), (3, 'B'), (5, 'B'), (4, 'B'), (6, 'B'))"
   ]
  },
  {
   "cell_type": "code",
   "execution_count": 57,
   "id": "fd275cb4",
   "metadata": {},
   "outputs": [
    {
     "name": "stdout",
     "output_type": "stream",
     "text": [
      "1.33 µs ± 9.22 ns per loop (mean ± std. dev. of 7 runs, 1,000,000 loops each)\n"
     ]
    }
   ],
   "source": [
    "%%timeit\n",
    "check_perm(per, peeps)"
   ]
  },
  {
   "cell_type": "code",
   "execution_count": null,
   "id": "2037d4c1",
   "metadata": {},
   "outputs": [],
   "source": []
  }
 ],
 "metadata": {
  "kernelspec": {
   "display_name": "Python 3 (ipykernel)",
   "language": "python",
   "name": "python3"
  },
  "language_info": {
   "codemirror_mode": {
    "name": "ipython",
    "version": 3
   },
   "file_extension": ".py",
   "mimetype": "text/x-python",
   "name": "python",
   "nbconvert_exporter": "python",
   "pygments_lexer": "ipython3",
   "version": "3.9.2"
  }
 },
 "nbformat": 4,
 "nbformat_minor": 5
}
